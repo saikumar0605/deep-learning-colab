{
 "cells": [
  {
   "cell_type": "code",
   "execution_count": 1,
   "metadata": {
    "canvas": {
     "comments": [],
     "componentType": "CodeCell",
     "copiedOriginId": null,
     "diskcache": false,
     "headerColor": "transparent",
     "id": "24cf8980-d81b-421a-bab4-65b12f162728",
     "isComponent": false,
     "name": "",
     "parents": []
    },
    "executionInfo": {
     "elapsed": 2717,
     "status": "ok",
     "timestamp": 1686550472744,
     "user": {
      "displayName": "Sai Kumar Reddy N",
      "userId": "10904434285003310325"
     },
     "user_tz": -330
    },
    "id": "AuQVpxXcPFUw",
    "tags": []
   },
   "outputs": [],
   "source": [
    "import numpy as np\n",
    "import matplotlib.pyplot as plt\n",
    "import seaborn as sns "
   ]
  },
  {
   "cell_type": "code",
   "execution_count": null,
   "metadata": {
    "canvas": {
     "comments": [],
     "componentType": "CodeCell",
     "copiedOriginId": null,
     "diskcache": false,
     "headerColor": "transparent",
     "id": "7cca000f-825b-4319-a89a-b0a2dfa60f47",
     "isComponent": false,
     "name": "",
     "parents": []
    },
    "id": "MkZ8412yPavU"
   },
   "outputs": [],
   "source": []
  }
 ],
 "metadata": {
  "accelerator": "GPU",
  "canvas": {
   "colorPalette": [
    "inherit",
    "inherit",
    "inherit",
    "inherit",
    "inherit",
    "inherit",
    "inherit",
    "inherit",
    "inherit",
    "inherit"
   ],
   "parameters": []
  },
  "colab": {
   "authorship_tag": "ABX9TyNwTu/8hNXmNw5E5EIeqNeX",
   "gpuType": "T4",
   "provenance": []
  },
  "kernelspec": {
   "display_name": "Python 3 (ipykernel)",
   "language": "python",
   "name": "python3"
  },
  "language_info": {
   "name": "python"
  }
 },
 "nbformat": 4,
 "nbformat_minor": 4
}
